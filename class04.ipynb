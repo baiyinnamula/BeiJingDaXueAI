{
 "cells": [
  {
   "cell_type": "markdown",
   "metadata": {},
   "source": [
    "# 第四讲 功能扩展"
   ]
  },
  {
   "cell_type": "markdown",
   "metadata": {},
   "source": [
    "## 一、 回顾"
   ]
  },
  {
   "cell_type": "markdown",
   "metadata": {},
   "source": [
    "### 1、tf.keras 搭建神经网络八股——六步法"
   ]
  },
  {
   "cell_type": "markdown",
   "metadata": {},
   "source": [
    "### 2、代码 mnist_train_baseline.py"
   ]
  },
  {
   "cell_type": "code",
   "execution_count": null,
   "metadata": {},
   "outputs": [],
   "source": [
    "import tensorflow as tf\n",
    "\n",
    "mnist = tf.keras.datasets.mnist\n",
    "(x_train, y_train), (x_test, y_test) = mnist.load_data()\n",
    "x_train, x_test = x_train / 255.0, x_test / 255.0\n",
    "\n",
    "model = tf.keras.models.Sequential([\n",
    "    tf.keras.layers.Flatten(input_shape=(28, 28)),\n",
    "    tf.keras.layers.Dense(128, activation='relu'),\n",
    "    tf.keras.layers.Dense(10, activation='softmax')\n",
    "])\n",
    "\n",
    "model.compile(optimizer='adam', loss='sparse_categorical_crossentropy', metrics=['sparse_categorical_accuracy'])\n",
    "model.fit(x_train, y_train, batch_size=32, epochs=10, validation_data=(x_test, y_test), validation_freq=1)\n",
    "model.summary()"
   ]
  },
  {
   "cell_type": "markdown",
   "metadata": {},
   "source": [
    "## 二、本讲用 tf.keras 完善功能模块"
   ]
  },
  {
   "cell_type": "markdown",
   "metadata": {},
   "source": [
    "### 1、自制数据集，应对特定应用"
   ]
  },
  {
   "cell_type": "markdown",
   "metadata": {},
   "source": [
    "#### 1.1、观察数据集数据结构，配成特征标签对"
   ]
  },
  {
   "cell_type": "code",
   "execution_count": null,
   "metadata": {},
   "outputs": [],
   "source": [
    "import tensorflow as tf\n",
    "from PIL import Image\n",
    "import numpy as np\n",
    "import os\n",
    "\n",
    "train_path = \"./MNIST_FC/mnist_image_label/mnist_train_jpg_60000/\"\n",
    "train_txt = \"./MNIST_FC/mnist_image_label/mnist_train_jpg_60000.txt\"\n",
    "x_train_save_path = \"./MNIST_FC/mnist_image_label/mnist_x_train.npy\"\n",
    "y_train_save_path = \"./MNIST_FC/mnist_image_label/mnist_y_train.npy\"\n",
    "\n",
    "\n",
    "test_path = \"./MNIST_FC/mnist_image_label/mnist_test_jpg_10000/\"\n",
    "test_txt = \"./MNIST_FC/mnist_image_label/mnist_test_jpg_10000.txt\"\n",
    "x_test_save_path = \"./MNIST_FC/mnist_image_label/mnist_x_test.npy\"\n",
    "y_test_save_path = \"./MNIST_FC/mnist_image_label/mnist_y_test.npy\"\n",
    "\n",
    "def generateds(path, txt):\n",
    "    f = open(txt, 'r') #以只读形式打开txt文件\n",
    "    contents = f.readlines() # 读取文件中所有行\n",
    "    f.close() # 关闭文件\n",
    "    x, y_ = [], []\n",
    "    for content in contents: #逐行取出\n",
    "        value = content.split() # 以空格分，开图片路径为value[0] , 标签为value[1] , 存入列表\n",
    "        img_path = path + value[0] #拼出图片路径和文件名\n",
    "        img = Image.open(img_path) # 读入图片\n",
    "        img = np.array(img.convert('L'))  # 图片变为8位宽灰度值的np.array格式\n",
    "        img = img/ 255.  # 数据归一化 （实现预处理）\n",
    "        x.append(img)  # 归一化后的数据，贴到列表x\n",
    "        y_.append(value[1]) # 标签贴到列表y_\n",
    "        # print('loading :' + content)  # 打印状态提示\n",
    "    x = np.array(x) # 变为np.array格式\n",
    "    y_ = np.array(y_) # 变为np.array格式\n",
    "    y_ = y_.astype(np.int64) # 变为64位整型\n",
    "    return x, y_\n",
    "\n",
    "\n",
    "if (os.path.exists(x_train_save_path)\n",
    "    and os.path.exists(y_train_save_path) \n",
    "    and os.path.exists(x_test_save_path) \n",
    "    and os.path.exists(y_test_save_path)):\n",
    "    \n",
    "    print('-------------Load Datesets-------------------------')\n",
    "    x_train_save = np.load(x_train_save_path)\n",
    "    y_train_save = np.load(y_train_save_path)\n",
    "    x_test_save = np.load(x_test_save_path)\n",
    "    y_test_save = np.load(y_test_save_path)\n",
    "    x_train= np.reshape(x_train_save, (len(x_train_save), 28, 28))\n",
    "    x_test = np.reshape(x_test_save, (len(x_test_save), 28, 28))\n",
    "else:\n",
    "    print('------------Generate Data sets-------------------')\n",
    "    x_train, y_train = generateds(train_path, train_txt)\n",
    "    x_test, y_test = generateds(test_path, test_txt) \n",
    "    \n",
    "    print('-------------Save Datasets-----------------')\n",
    "    x_train_save = np.reshape(x_train, (len(x_train), -1)) \n",
    "    x_test_save = np.reshape(x_test, (len(x_test), -1))\n",
    "    np.save(x_train_save_path, x_train_save)\n",
    "    np.save(y_train_save_path, y_train)\n",
    "    np.save(x_test_save_path, x_test_save)\n",
    "    np.save(y_test_save_path, y_test)\n",
    "    \n",
    "    \n",
    "model = tf.keras.models.Sequential([\n",
    "    tf.keras.layers.Flatten(),\n",
    "    tf.keras.layers.Dense(128, activation='relu'),\n",
    "    tf.keras.layers.Dense(10, activation='softmax')\n",
    "])\n",
    "\n",
    "model.compile(optimizer='adam',\n",
    "              loss=tf.keras.losses.SparseCategoricalCrossentropy(from_logits=False),\n",
    "              metrics=['sparse_categorical_accuracy'])\n",
    "\n",
    "model.fit(x_train, y_train, batch_size=32, epochs=5, validation_data=(x_test, y_test), validation_freq=1)\n",
    "model.summary()"
   ]
  },
  {
   "cell_type": "markdown",
   "metadata": {},
   "source": [
    "### 2、数据增强，增大数据量"
   ]
  },
  {
   "cell_type": "markdown",
   "metadata": {},
   "source": [
    "#### 2.1、数据增强（增大数据量）"
   ]
  },
  {
   "cell_type": "markdown",
   "metadata": {},
   "source": [
    "#### 2.2、数据增强可视化 (代码 show_augmented _images.py)"
   ]
  },
  {
   "cell_type": "code",
   "execution_count": null,
   "metadata": {},
   "outputs": [],
   "source": [
    "import tensorflow as tf\n",
    "from matplotlib import pyplot as plt\n",
    "from tensorflow.keras.preprocessing.image import ImageDataGenerator\n",
    "import numpy as np\n",
    "\n",
    "mnist = tf.keras.datasets.mnist\n",
    "(x_train, y_train), (x_test, y_test) = mnist.load_data()\n",
    "x_train = x_train.reshape(x_train.shape[0], 28, 28, 1) # 给数据增加一个维度，使数据和网络结构匹配\n",
    "x_test= x_test.reshape(x_test.shape[0], 28, 28, 1)\n",
    "\n",
    "image_gen_train = ImageDataGenerator(\n",
    "    rescale = 1. / 255,\n",
    "    rotation_range=45,\n",
    "    width_shift_range=.15,\n",
    "    height_shift_range=.15,\n",
    "    horizontal_flip=False,\n",
    "    zoom_range=0.5 \n",
    ")\n",
    "\n",
    "image_gen_train.fit(x_train)\n",
    "print(\"xtrain\", x_train.shape)\n",
    "x_train_subset1 = np.squeeze(x_train[:12])\n",
    "print(\"x_train_subset1\",x_train_subset1.shape)\n",
    "print(\"xtrain\", x_train.shape)\n",
    "x_train_subset2 = x_train[:12] # 一次显示12张图片\n",
    "print(\"x_train_subset2\",x_train_subset2.shape)\n",
    "\n",
    "fig = plt.figure(figsize=(20, 2))\n",
    "plt.set_cmap('gray')\n",
    "# 显示原始图片\n",
    "for i in range(0, len(x_train_subset1)):\n",
    "    ax = fig.add_subplot(1, 12, i + 1)\n",
    "    ax.imshow(x_train_subset1[i])\n",
    "fig.suptitle('Subset of Original Training Images', fontsize=20)\n",
    "plt.show()\n",
    "\n",
    "# 显示增强后的图片\n",
    "for x_batch in image_gen_train.flow(x_train_subset2, batch_size=12, shuffle=False):\n",
    "    fig = plt.figure(figsize=(20, 2))\n",
    "    for i in range(0, 12):\n",
    "        ax = fig.add_subplot(1, 12, i + 1)\n",
    "        ax.imshow(np.squeeze(x_batch[i]))\n",
    "    fig.suptitle('Augmented Images', fontsize=20)\n",
    "    plt.show()\n",
    "    break"
   ]
  },
  {
   "cell_type": "code",
   "execution_count": null,
   "metadata": {},
   "outputs": [],
   "source": [
    "model = tf.keras.models.Sequential([\n",
    "    tf.keras.layers.Flatten(),\n",
    "    tf.keras.layers.Dense(128, activation='relu'),\n",
    "    tf.keras.layers.Dense(10, activation='softmax')\n",
    "])\n",
    "\n",
    "model.compile(optimizer='adam',\n",
    "              loss=tf.keras.losses.SparseCategoricalCrossentropy(from_logits=False),\n",
    "              metrics=['sparse_categorical_accuracy'])\n",
    "\n",
    "model.fit(image_gen_train.flow(x_train, y_train, batch_size=32), epochs=5, validation_data=(x_test, y_test),\n",
    "          validation_freq=1)\n",
    "model.summary()"
   ]
  },
  {
   "cell_type": "markdown",
   "metadata": {},
   "source": [
    "### 3、断点续训，存取模型"
   ]
  },
  {
   "cell_type": "markdown",
   "metadata": {},
   "source": [
    "#### 3.1、读取模型"
   ]
  },
  {
   "cell_type": "markdown",
   "metadata": {},
   "source": [
    "#### 3.2、保存模型"
   ]
  },
  {
   "cell_type": "code",
   "execution_count": null,
   "metadata": {},
   "outputs": [],
   "source": [
    "import tensorflow as tf\n",
    "import os\n",
    "\n",
    "mnist = tf.keras.datasets.mnist\n",
    "(x_train, y_train),(x_test, y_test) = mnist.load_data()\n",
    "x_train, x_test = x_train / 255., x_test / 255.\n",
    "model = tf.keras.models.Sequential([\n",
    "    tf.keras.layers.Flatten(),\n",
    "    tf.keras.layers.Dense(128, activation='relu'),\n",
    "    tf.keras.layers.Dense(10, activation='softmax')\n",
    "])\n",
    "model.compile(optimizer='adam',\n",
    "              loss=tf.keras.losses.SparseCategoricalCrossentropy(from_logits=False),\n",
    "              metrics=['sparse_categorical_accuracy'])\n",
    "\n",
    "checkpoint_save_path = './checkpoint/mnist.ckpt'\n",
    "if os.path.exists(checkpoint_save_path + '.index'):\n",
    "    print('---------------load the model----------------')\n",
    "    model.load_weights(checkpoint_save_path)\n",
    "\n",
    "cp_callback = tf.keras.callbacks.ModelCheckpoint(filepath=checkpoint_save_path,\n",
    "                                                 save_weights_only=True,\n",
    "                                                 save_best_only=True)\n",
    "history = model.fit(x_train, y_train, batch_size=32, epochs=10, validation_data=(x_test, y_test), callbacks=[cp_callback])"
   ]
  },
  {
   "cell_type": "markdown",
   "metadata": {},
   "source": [
    "### 4、参数提取，写至文本"
   ]
  },
  {
   "cell_type": "markdown",
   "metadata": {},
   "source": [
    "#### 4.1、提取可训练参数"
   ]
  },
  {
   "cell_type": "markdown",
   "metadata": {},
   "source": [
    "#### 4.2、设置 print 输出格式"
   ]
  },
  {
   "cell_type": "code",
   "execution_count": null,
   "metadata": {},
   "outputs": [],
   "source": [
    "import tensorflow as tf\n",
    "import os\n",
    "import numpy as np\n",
    "np.set_printoptions(threshold=np.inf)\n",
    "\n",
    "mnist = tf.keras.datasets.mnist\n",
    "(x_train, y_train),(x_test, y_test) = mnist.load_data()\n",
    "x_train, x_test = x_train / 255., x_test / 255.\n",
    "model = tf.keras.models.Sequential([\n",
    "    tf.keras.layers.Flatten(),\n",
    "    tf.keras.layers.Dense(128, activation='relu'),\n",
    "    tf.keras.layers.Dense(10, activation='softmax')\n",
    "])\n",
    "model.compile(optimizer='adam',\n",
    "              loss=tf.keras.losses.SparseCategoricalCrossentropy(from_logits=False),\n",
    "              metrics=['sparse_categorical_accuracy'])\n",
    "\n",
    "checkpoint_save_path = './checkpoint/mnist.ckpt'\n",
    "if os.path.exists(checkpoint_save_path + '.index'):\n",
    "    print('---------------load the model----------------')\n",
    "    model.load_weights(checkpoint_save_path)\n",
    "\n",
    "cp_callback = tf.keras.callbacks.ModelCheckpoint(filepath=checkpoint_save_path,\n",
    "                                                 save_weights_only=True,\n",
    "                                                 save_best_only=True)\n",
    "history = model.fit(x_train, \n",
    "                    y_train, \n",
    "                    batch_size=32, \n",
    "                    epochs=10, \n",
    "                    validation_data=(x_test, y_test), \n",
    "                    callbacks=[cp_callback])\n",
    "model.summary()\n",
    "print(model.trainable_variables)\n",
    "\n",
    "with open('./weights.txt', 'w') as file:\n",
    "    for v in model.trainable_variables:\n",
    "        file.write(str(v.name) + '\\n')\n",
    "        file.write(str(v.shape) + '\\n')\n",
    "        file.write(str(v.numpy()) + '\\n')\n"
   ]
  },
  {
   "cell_type": "markdown",
   "metadata": {},
   "source": [
    "### 5、acc/loss 可视化，查看效果"
   ]
  },
  {
   "cell_type": "markdown",
   "metadata": {},
   "source": [
    "#### 5.1、acc 曲线与 loss 曲线"
   ]
  },
  {
   "cell_type": "code",
   "execution_count": null,
   "metadata": {},
   "outputs": [],
   "source": [
    "import tensorflow as tf\n",
    "import os\n",
    "import numpy as np\n",
    "from matplotlib import pyplot as plt\n",
    "\n",
    "np.set_printoptions(threshold=np.inf)\n",
    "\n",
    "mnist = tf.keras.datasets.mnist\n",
    "(x_train, y_train), (x_test, y_test) = mnist.load_data()\n",
    "x_train, x_test = x_train / 255.0, x_test / 255.0\n",
    "\n",
    "model = tf.keras.models.Sequential([\n",
    "    tf.keras.layers.Flatten(),\n",
    "    tf.keras.layers.Dense(128, activation='relu'),\n",
    "    tf.keras.layers.Dense(10, activation='softmax')\n",
    "])\n",
    "\n",
    "model.compile(optimizer='adam',\n",
    "              loss=tf.keras.losses.SparseCategoricalCrossentropy(from_logits=False),\n",
    "              metrics=['sparse_categorical_accuracy'])\n",
    "\n",
    "checkpoint_save_path = \"./checkpoint/mnist.ckpt\"\n",
    "if os.path.exists(checkpoint_save_path + '.index'):\n",
    "    print('-------------load the model-----------------')\n",
    "    model.load_weights(checkpoint_save_path)\n",
    "\n",
    "cp_callback = tf.keras.callbacks.ModelCheckpoint(filepath=checkpoint_save_path,\n",
    "                                                 save_weights_only=True,\n",
    "                                                 save_best_only=True)\n",
    "\n",
    "history = model.fit(x_train, y_train, batch_size=32, epochs=5, validation_data=(x_test, y_test), validation_freq=1,\n",
    "                    callbacks=[cp_callback])\n",
    "model.summary()\n",
    "\n",
    "print(model.trainable_variables)\n",
    "file = open('./weights.txt', 'w')\n",
    "for v in model.trainable_variables:\n",
    "    file.write(str(v.name) + '\\n')\n",
    "    file.write(str(v.shape) + '\\n')\n",
    "    file.write(str(v.numpy()) + '\\n')\n",
    "file.close()\n",
    "\n",
    "###############################################    show   ###############################################\n",
    "\n",
    "# 显示训练集和验证集的acc和loss曲线\n",
    "acc = history.history['sparse_categorical_accuracy']\n",
    "val_acc = history.history['val_sparse_categorical_accuracy']\n",
    "loss = history.history['loss']\n",
    "val_loss = history.history['val_loss']\n",
    "\n",
    "plt.subplot(1, 2, 1)\n",
    "plt.plot(acc, label='Training Accuracy')\n",
    "plt.plot(val_acc, label='Validation Accuracy')\n",
    "plt.title('Training and Validation Accuracy')\n",
    "plt.legend()\n",
    "\n",
    "plt.subplot(1, 2, 2)\n",
    "plt.plot(loss, label='Training Loss')\n",
    "plt.plot(val_loss, label='Validation Loss')\n",
    "plt.title('Training and Validation Loss')\n",
    "plt.legend()\n",
    "plt.show()\n"
   ]
  },
  {
   "cell_type": "markdown",
   "metadata": {},
   "source": [
    "### 6、应用程序，给图识物"
   ]
  },
  {
   "cell_type": "markdown",
   "metadata": {},
   "source": [
    "#### 6.1、给图识物"
   ]
  },
  {
   "cell_type": "markdown",
   "metadata": {},
   "source": [
    "#### 6.2、前向传播执行应用"
   ]
  },
  {
   "cell_type": "code",
   "execution_count": null,
   "metadata": {},
   "outputs": [],
   "source": [
    "from PIL import Image\n",
    "import numpy as np\n",
    "import tensorflow as tf\n",
    "import matplotlib.pyplot as plt\n",
    "\n",
    "model_save_path = './checkpoint/mnist.ckpt'\n",
    "\n",
    "model = tf.keras.models.Sequential([\n",
    "    tf.keras.layers.Flatten(),\n",
    "    tf.keras.layers.Dense(128, activation='relu'),\n",
    "    tf.keras.layers.Dense(10, activation='softmax')])\n",
    "# 加载模型\n",
    "model.load_weights(model_save_path)\n",
    "#预测图片数量\n",
    "preNum = int(input(\"input the number of test pictures:\"))\n",
    "\n",
    "for i in range(preNum):\n",
    "    #预测图片路径\n",
    "    image_path = input(\"the path of test picture:\")\n",
    "    #打开图片\n",
    "    img = Image.open( './MNIST_FC/'+ image_path)\n",
    "    \n",
    "    #显示图片3\n",
    "    image = plt.imread('./MNIST_FC/'+ image_path)\n",
    "    plt.set_cmap('gray')\n",
    "    plt.imshow(image)\n",
    "    \n",
    "    img = img.resize((28, 28), Image.ANTIALIAS)\n",
    "    img_arr = np.array(img.convert('L'))\n",
    "\n",
    "    # img_arr = 255 - img_arr\n",
    "    #二值化\n",
    "    for i in range(28):\n",
    "        for j in range(28):\n",
    "            if img_arr[i][j] < 200:\n",
    "                img_arr[i][j] = 255\n",
    "            else:\n",
    "                img_arr[i][j] = 0\n",
    "                \n",
    "    img_arr = img_arr / 255.0\n",
    "    print(\"img_arr:\",img_arr.shape)\n",
    "    x_predict = img_arr[tf.newaxis, ...]\n",
    "    print(\"x_predict:\",x_predict.shape)\n",
    "    #预测\n",
    "    result = model.predict(x_predict)\n",
    "    \n",
    "    pred = tf.argmax(result, axis=1)\n",
    "    \n",
    "    print('\\n')\n",
    "    #输出结果\n",
    "    tf.print(pred)\n",
    "    plt.pause(1) #暂停1秒钟\n",
    "    plt.close() #关闭图片"
   ]
  },
  {
   "cell_type": "markdown",
   "metadata": {},
   "source": [
    "## 三、补充"
   ]
  },
  {
   "cell_type": "markdown",
   "metadata": {},
   "source": [
    "### 1、数据集 Fashion_mnist"
   ]
  }
 ],
 "metadata": {
  "kernelspec": {
   "display_name": "netsun",
   "language": "python",
   "name": "python3"
  },
  "language_info": {
   "codemirror_mode": {
    "name": "ipython",
    "version": 3
   },
   "file_extension": ".py",
   "mimetype": "text/x-python",
   "name": "python",
   "nbconvert_exporter": "python",
   "pygments_lexer": "ipython3",
   "version": "3.7.16"
  },
  "orig_nbformat": 4
 },
 "nbformat": 4,
 "nbformat_minor": 2
}
